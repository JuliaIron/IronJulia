{
 "cells": [
  {
   "cell_type": "markdown",
   "id": "6833cc77",
   "metadata": {},
   "source": [
    "Instructions\n",
    "\n",
    "1)  It is assumed that the mean systolic blood pressure is μ = 120 mm Hg. In the Honolulu Heart Study, a sample of n = 100 people had an average systolic blood pressure of 130.1 mm Hg with a standard deviation of 21.21 mm Hg. Is the group significantly different (with respect to systolic blood pressure!) from the regular population?\n",
    "\n",
    "- Set up the hypothesis test.\n",
    "- Write down all the steps followed for setting up the test.\n",
    "- Calculate the test statistic by hand and also code it in Python. It should be 4.76190. What decision can you make based on this calculated value?\n",
    "\n",
    "2)  We will have another simple example on two sample t test. But this time this is a one sided t-test In a packing plant, a machine packs cartons with jars. It is supposed that a new machine will pack faster on the average than the machine currently used. To test that hypothesis, the times it takes each machine to pack ten cartons are recorded. The results, in seconds, are shown in the tables in the file Data/machine.txt. Assume that there is sufficient evidence to conduct the t test, does the data provide sufficient evidence to show if one machine is better than the other\n"
   ]
  },
  {
   "cell_type": "code",
   "execution_count": 11,
   "id": "eaec156e",
   "metadata": {},
   "outputs": [],
   "source": [
    "import numpy as np\n",
    "import pandas as pd\n",
    "import scipy.stats as stats\n",
    "import matplotlib.pyplot as plt\n",
    "import seaborn as sns\n",
    "\n",
    "%matplotlib inline"
   ]
  },
  {
   "cell_type": "code",
   "execution_count": null,
   "id": "6371f5f3",
   "metadata": {},
   "outputs": [],
   "source": [
    "# CONDUCT A STATISTICAL TEST\n",
    "\n",
    "# Computing the test statistic from our sample and comparing it against the critical value corresponding to a given confidence level."
   ]
  },
  {
   "cell_type": "code",
   "execution_count": null,
   "id": "3c824aac",
   "metadata": {},
   "outputs": [],
   "source": [
    "# Significance level ( α ): How strong the sample evidence  must be, to conclude that the null hypothesis can be rejected.\n"
   ]
  },
  {
   "cell_type": "markdown",
   "id": "8cad2f21",
   "metadata": {},
   "source": [
    "### Set Up the Hypothesis Test"
   ]
  },
  {
   "cell_type": "markdown",
   "id": "eb03e46b",
   "metadata": {},
   "source": [
    "Null Hypothesis (Ho): μ = 120 mm Hg\n",
    "\n",
    "Alternate Hypothesis (Ha): μ != 120 mm Hg\n",
    "\n",
    "is there a statistically significant difference between the mean sample and the mean population? "
   ]
  },
  {
   "cell_type": "markdown",
   "id": "c0b81db3",
   "metadata": {},
   "source": [
    "### Steps for Hypothesis Testing using the Test Statistic"
   ]
  },
  {
   "cell_type": "markdown",
   "id": "fe668323",
   "metadata": {},
   "source": [
    "1) Fix the confidence level           = 95 %\n",
    "\n",
    "2) Compute the test statistic        = sample parameter  z \n",
    "\n",
    "3) Compute the critical value of the corresponding distribution\n",
    "\n",
    "4) Compare the test statistic with the critical value\n",
    "\n",
    "5) See if test statistic is within the confidence level and accept or reject the null hypothesis"
   ]
  },
  {
   "cell_type": "markdown",
   "id": "6c98c3e1",
   "metadata": {},
   "source": [
    "####  1. Fix the confidence level"
   ]
  },
  {
   "cell_type": "markdown",
   "id": "cf455407",
   "metadata": {},
   "source": [
    "Default set to 95 %\n",
    "( 1 - α  )\n",
    "Is the likelihood of finding a value as extreme as the one we have\n",
    "\n",
    "Significance level α = 0.05"
   ]
  },
  {
   "cell_type": "markdown",
   "id": "052c5bbf",
   "metadata": {},
   "source": [
    "#### 2. Compute the test statistic "
   ]
  },
  {
   "cell_type": "markdown",
   "id": "324217a4",
   "metadata": {},
   "source": [
    "This is a one sample, two sided test\n",
    "\n",
    "The given sample size of n=100 is bigger than 30 samples, which means we have a normal distribution of the samples"
   ]
  },
  {
   "cell_type": "markdown",
   "id": "dabb1962",
   "metadata": {},
   "source": [
    "μ = 120 mm Hg\n",
    "\n",
    "σ = 21.21 mm Hg\n",
    "\n",
    "x̄ = 130.1 mm Hg\n",
    "\n",
    "n = 100"
   ]
  },
  {
   "cell_type": "code",
   "execution_count": 16,
   "id": "425e9972",
   "metadata": {},
   "outputs": [],
   "source": [
    "sample_mean = 130.1\n",
    "pop_mean = 120\n",
    "pop_std_dev = 21.21"
   ]
  },
  {
   "cell_type": "code",
   "execution_count": 23,
   "id": "f70546b6",
   "metadata": {},
   "outputs": [
    {
     "name": "stdout",
     "output_type": "stream",
     "text": [
      "The z score is: 4.76\n"
     ]
    }
   ],
   "source": [
    "# The z score is the number of standard deviations that a number is away from the mean of a distribution.\n",
    "\n",
    "z = ( sample_mean - pop_mean ) / ( pop_std_dev / np.sqrt(100) )\n",
    "print(\"The z score is: {:.2f}\".format(z))"
   ]
  },
  {
   "cell_type": "markdown",
   "id": "7291877e",
   "metadata": {},
   "source": [
    "#### 3. Compute the critical value of the corresponding distribution"
   ]
  },
  {
   "cell_type": "markdown",
   "id": "1a2dcaa3",
   "metadata": {},
   "source": [
    "Significance level α = 0.05\n",
    "\n",
    "Where is located the critical value of the normal distribution with an area of 0.95:\n",
    "zc = 1.64"
   ]
  },
  {
   "cell_type": "code",
   "execution_count": 24,
   "id": "058331b5",
   "metadata": {},
   "outputs": [
    {
     "name": "stdout",
     "output_type": "stream",
     "text": [
      "The critical value corresponding to a 0.95 area of a normal distribution is: 1.64\n"
     ]
    }
   ],
   "source": [
    "zc = stats.norm.ppf(0.95)\n",
    "print(\"The critical value corresponding to a 0.95 area of a normal distribution is: {:.2f}\".format(zc))"
   ]
  },
  {
   "cell_type": "code",
   "execution_count": 26,
   "id": "0180e752",
   "metadata": {},
   "outputs": [
    {
     "name": "stdout",
     "output_type": "stream",
     "text": [
      "The zc score is: 1.96\n"
     ]
    }
   ],
   "source": [
    "# Two sided: Ha: 𝜇≠100\n",
    "\n",
    "zc = stats.norm.ppf(1-(0.05/2))\n",
    "print(\"The zc score is: {:.2f}\".format(zc))\n",
    "\n",
    "# is it 1.64 or 1.96??"
   ]
  },
  {
   "cell_type": "markdown",
   "id": "03c66eaa",
   "metadata": {},
   "source": [
    "#### 4. Compare the test statistic with the critical value"
   ]
  },
  {
   "cell_type": "markdown",
   "id": "bb1e361c",
   "metadata": {},
   "source": [
    "zc = 1.64 < Z = 4,76      "
   ]
  },
  {
   "cell_type": "markdown",
   "id": "89cd44a8",
   "metadata": {},
   "source": [
    "#### 5. See if test statistic is within the confidence level and accept or reject the null hypothesis"
   ]
  },
  {
   "cell_type": "markdown",
   "id": "81785adc",
   "metadata": {},
   "source": [
    "Our z-score is not within the confidence level. \n",
    "We decline the null hypothesis and accept the alternate hypothesis μ != 120 mm Hg"
   ]
  }
 ],
 "metadata": {
  "kernelspec": {
   "display_name": "Python 3",
   "language": "python",
   "name": "python3"
  },
  "language_info": {
   "codemirror_mode": {
    "name": "ipython",
    "version": 3
   },
   "file_extension": ".py",
   "mimetype": "text/x-python",
   "name": "python",
   "nbconvert_exporter": "python",
   "pygments_lexer": "ipython3",
   "version": "3.9.6"
  }
 },
 "nbformat": 4,
 "nbformat_minor": 5
}
