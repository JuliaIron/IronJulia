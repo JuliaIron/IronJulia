{
 "cells": [
  {
   "cell_type": "markdown",
   "id": "5a715fcf",
   "metadata": {},
   "source": [
    "# Lab Case Study \"Healthcare for all\""
   ]
  },
  {
   "cell_type": "markdown",
   "id": "eaf9dcbf",
   "metadata": {},
   "source": [
    "### Background Info\n",
    "- various channels including personal mails, emails, fundraising events, other businesses and corporations, philanthropists\n",
    "- direct mails : One of their most efficient channels for a long period. But for the last couple of years, they have seen a decline in the donations \n",
    "- Donors: This mailing was sent to a total of 3.5 million \"Healthcare for All\" donors who were on the database as of June 1997. Everyone included in this mailing had made at least one prior donation.\n",
    "- The mailing included a gift (or \"premium\")\n",
    "- group that is of particular interest to the organization is \"Lapsed\" donors. These are individuals who made their last donation 13 to 24 months ago = recapture them is goal!\n",
    "- there is often an inverse correlation between likelihood to respond and the dollar amount of the gift, so a straight response model (a classification or discrimination task) will most likely net only very low dollar donors. High dollar donors will fall into the lower deciles, which would most likely be suppressed from future mailings.\n",
    "\n",
    "### Population\n",
    "analysis data set contains a subset of the total universe that received the mailing. The analysis file includes all 191,779 Lapsed donors who received the mailing\n",
    "Brainstorm\n",
    "\n",
    "### Goals/ Objectives of the Data Analyst\n",
    "- to improve the cost-effectiveness of future direct marketing efforts, \"Healthcare for All\" wishes to develop a model that will help them maximize the net revenue (a regression or estimation task) generated from future renewal mailings to Lapsed donors.\n",
    "\n",
    "### Steps to do for Data Analysis\n",
    "using Google Sheets\n",
    "\n",
    "*Data Gathering*\n",
    "- Merging file 1, 2, 3 and 4 to one file by consolidation of files \n",
    "\n",
    "*Data Cleaning*\n",
    "- Standardize column names \n",
    "- Sorting columns, in an order to be clear for later work\n",
    "- Correcting typos and other names, by using filter oder replacing function, e.g. states, gender \n",
    "- Filtering data \n",
    "- Replacing empty cells with data, e.g. gender/ empty cell to \"none\"\n",
    "- Standardize column field formats (e.g. all to decimal or integer, etc)\n",
    "- Remove duplicates\n",
    "\n",
    "\n",
    "\n",
    "*More about data wrangling/cleaning using MS Excel:*\n",
    "\n",
    "String functions\n",
    "Standardizing data\n",
    "ImportRange and indirect (use the same data with spreadsheets)\n",
    "Using V lookups/H lookups\n"
   ]
  },
  {
   "cell_type": "code",
   "execution_count": null,
   "id": "a27c3dd0",
   "metadata": {},
   "outputs": [],
   "source": []
  }
 ],
 "metadata": {
  "kernelspec": {
   "display_name": "Python 3",
   "language": "python",
   "name": "python3"
  },
  "language_info": {
   "codemirror_mode": {
    "name": "ipython",
    "version": 3
   },
   "file_extension": ".py",
   "mimetype": "text/x-python",
   "name": "python",
   "nbconvert_exporter": "python",
   "pygments_lexer": "ipython3",
   "version": "3.9.6"
  }
 },
 "nbformat": 4,
 "nbformat_minor": 5
}
